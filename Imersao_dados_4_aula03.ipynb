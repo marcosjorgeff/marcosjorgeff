{
  "nbformat": 4,
  "nbformat_minor": 0,
  "metadata": {
    "colab": {
      "name": "Imersao_dados_4_aula03.ipynb",
      "provenance": [],
      "collapsed_sections": [],
      "include_colab_link": true
    },
    "kernelspec": {
      "name": "python3",
      "display_name": "Python 3"
    },
    "language_info": {
      "name": "python"
    }
  },
  "cells": [
    {
      "cell_type": "markdown",
      "metadata": {
        "id": "view-in-github",
        "colab_type": "text"
      },
      "source": [
        "<a href=\"https://colab.research.google.com/github/marcosjorgeff/marcosjorgeff/blob/Master/Imersao_dados_4_aula03.ipynb\" target=\"_parent\"><img src=\"https://colab.research.google.com/assets/colab-badge.svg\" alt=\"Open In Colab\"/></a>"
      ]
    },
    {
      "cell_type": "code",
      "execution_count": null,
      "metadata": {
        "id": "hz9yn4dWQKf9"
      },
      "outputs": [],
      "source": [
        "import pandas as pd\n",
        "import matplotlib.pyplot as plt\n",
        "import seaborn as sns\n",
        "url = \"https://gist.githubusercontent.com/tgcsantos/3bdb29eba6ce391e90df2b72205ba891/raw/22fa920e80c9fa209a9fccc8b52d74cc95d1599b/dados_imoveis.csv\"\n",
        "dados = pd.read_csv(url)"
      ]
    },
    {
      "cell_type": "code",
      "source": [
        "dados[\"Valor\"].str.split(expand = True)[2].unique()"
      ],
      "metadata": {
        "colab": {
          "base_uri": "https://localhost:8080/"
        },
        "id": "phK23wq-jkAD",
        "outputId": "4a64460b-5650-49ab-9bc5-c02914b61c3a"
      },
      "execution_count": null,
      "outputs": [
        {
          "output_type": "execute_result",
          "data": {
            "text/plain": [
              "array([None, '/Mês', '/Ano', '/Dia'], dtype=object)"
            ]
          },
          "metadata": {},
          "execution_count": 2
        }
      ]
    },
    {
      "cell_type": "code",
      "source": [
        "dados[[\"Moeda\", \"Valor_anuncio\", \"Tipo_anuncio\"]] = dados[\"Valor\"].str.split(expand = True)\n",
        "dados.head()"
      ],
      "metadata": {
        "colab": {
          "base_uri": "https://localhost:8080/",
          "height": 206
        },
        "id": "kvmSFmtMkhCi",
        "outputId": "739cc27d-1d3c-4355-b39a-c3bf06e4e272"
      },
      "execution_count": null,
      "outputs": [
        {
          "output_type": "execute_result",
          "data": {
            "text/plain": [
              "                              Rua              Bairro     Cidade  Metragem  \\\n",
              "0           Avenida Itacira, 255    Planalto Paulista  São Paulo      1000   \n",
              "1  Rua Aurelia Perez Alvarez, 42   Jardim dos Estados  São Paulo       496   \n",
              "2                 Rua Alba Valdez     Jardim Reimberg  São Paulo       125   \n",
              "3                             NaN      Jardim Morumbi  São Paulo       310   \n",
              "4        Rua Tobias Barreto, 195                Mooca  São Paulo       100   \n",
              "\n",
              "   Quartos  Banheiros  Vagas         Valor Moeda Valor_anuncio Tipo_anuncio  \n",
              "0        4          8      6  R$ 7.000.000    R$     7.000.000         None  \n",
              "1        4          4      4  R$ 3.700.000    R$     3.700.000         None  \n",
              "2        4          3      2    R$ 380.000    R$       380.000         None  \n",
              "3        3          2      4    R$ 685.000    R$       685.000         None  \n",
              "4        3          2      2    R$ 540.000    R$       540.000         None  "
            ],
            "text/html": [
              "\n",
              "  <div id=\"df-1378505a-031d-4a76-a3e3-c6000c8da1fd\">\n",
              "    <div class=\"colab-df-container\">\n",
              "      <div>\n",
              "<style scoped>\n",
              "    .dataframe tbody tr th:only-of-type {\n",
              "        vertical-align: middle;\n",
              "    }\n",
              "\n",
              "    .dataframe tbody tr th {\n",
              "        vertical-align: top;\n",
              "    }\n",
              "\n",
              "    .dataframe thead th {\n",
              "        text-align: right;\n",
              "    }\n",
              "</style>\n",
              "<table border=\"1\" class=\"dataframe\">\n",
              "  <thead>\n",
              "    <tr style=\"text-align: right;\">\n",
              "      <th></th>\n",
              "      <th>Rua</th>\n",
              "      <th>Bairro</th>\n",
              "      <th>Cidade</th>\n",
              "      <th>Metragem</th>\n",
              "      <th>Quartos</th>\n",
              "      <th>Banheiros</th>\n",
              "      <th>Vagas</th>\n",
              "      <th>Valor</th>\n",
              "      <th>Moeda</th>\n",
              "      <th>Valor_anuncio</th>\n",
              "      <th>Tipo_anuncio</th>\n",
              "    </tr>\n",
              "  </thead>\n",
              "  <tbody>\n",
              "    <tr>\n",
              "      <th>0</th>\n",
              "      <td>Avenida Itacira, 255</td>\n",
              "      <td>Planalto Paulista</td>\n",
              "      <td>São Paulo</td>\n",
              "      <td>1000</td>\n",
              "      <td>4</td>\n",
              "      <td>8</td>\n",
              "      <td>6</td>\n",
              "      <td>R$ 7.000.000</td>\n",
              "      <td>R$</td>\n",
              "      <td>7.000.000</td>\n",
              "      <td>None</td>\n",
              "    </tr>\n",
              "    <tr>\n",
              "      <th>1</th>\n",
              "      <td>Rua Aurelia Perez Alvarez, 42</td>\n",
              "      <td>Jardim dos Estados</td>\n",
              "      <td>São Paulo</td>\n",
              "      <td>496</td>\n",
              "      <td>4</td>\n",
              "      <td>4</td>\n",
              "      <td>4</td>\n",
              "      <td>R$ 3.700.000</td>\n",
              "      <td>R$</td>\n",
              "      <td>3.700.000</td>\n",
              "      <td>None</td>\n",
              "    </tr>\n",
              "    <tr>\n",
              "      <th>2</th>\n",
              "      <td>Rua Alba Valdez</td>\n",
              "      <td>Jardim Reimberg</td>\n",
              "      <td>São Paulo</td>\n",
              "      <td>125</td>\n",
              "      <td>4</td>\n",
              "      <td>3</td>\n",
              "      <td>2</td>\n",
              "      <td>R$ 380.000</td>\n",
              "      <td>R$</td>\n",
              "      <td>380.000</td>\n",
              "      <td>None</td>\n",
              "    </tr>\n",
              "    <tr>\n",
              "      <th>3</th>\n",
              "      <td>NaN</td>\n",
              "      <td>Jardim Morumbi</td>\n",
              "      <td>São Paulo</td>\n",
              "      <td>310</td>\n",
              "      <td>3</td>\n",
              "      <td>2</td>\n",
              "      <td>4</td>\n",
              "      <td>R$ 685.000</td>\n",
              "      <td>R$</td>\n",
              "      <td>685.000</td>\n",
              "      <td>None</td>\n",
              "    </tr>\n",
              "    <tr>\n",
              "      <th>4</th>\n",
              "      <td>Rua Tobias Barreto, 195</td>\n",
              "      <td>Mooca</td>\n",
              "      <td>São Paulo</td>\n",
              "      <td>100</td>\n",
              "      <td>3</td>\n",
              "      <td>2</td>\n",
              "      <td>2</td>\n",
              "      <td>R$ 540.000</td>\n",
              "      <td>R$</td>\n",
              "      <td>540.000</td>\n",
              "      <td>None</td>\n",
              "    </tr>\n",
              "  </tbody>\n",
              "</table>\n",
              "</div>\n",
              "      <button class=\"colab-df-convert\" onclick=\"convertToInteractive('df-1378505a-031d-4a76-a3e3-c6000c8da1fd')\"\n",
              "              title=\"Convert this dataframe to an interactive table.\"\n",
              "              style=\"display:none;\">\n",
              "        \n",
              "  <svg xmlns=\"http://www.w3.org/2000/svg\" height=\"24px\"viewBox=\"0 0 24 24\"\n",
              "       width=\"24px\">\n",
              "    <path d=\"M0 0h24v24H0V0z\" fill=\"none\"/>\n",
              "    <path d=\"M18.56 5.44l.94 2.06.94-2.06 2.06-.94-2.06-.94-.94-2.06-.94 2.06-2.06.94zm-11 1L8.5 8.5l.94-2.06 2.06-.94-2.06-.94L8.5 2.5l-.94 2.06-2.06.94zm10 10l.94 2.06.94-2.06 2.06-.94-2.06-.94-.94-2.06-.94 2.06-2.06.94z\"/><path d=\"M17.41 7.96l-1.37-1.37c-.4-.4-.92-.59-1.43-.59-.52 0-1.04.2-1.43.59L10.3 9.45l-7.72 7.72c-.78.78-.78 2.05 0 2.83L4 21.41c.39.39.9.59 1.41.59.51 0 1.02-.2 1.41-.59l7.78-7.78 2.81-2.81c.8-.78.8-2.07 0-2.86zM5.41 20L4 18.59l7.72-7.72 1.47 1.35L5.41 20z\"/>\n",
              "  </svg>\n",
              "      </button>\n",
              "      \n",
              "  <style>\n",
              "    .colab-df-container {\n",
              "      display:flex;\n",
              "      flex-wrap:wrap;\n",
              "      gap: 12px;\n",
              "    }\n",
              "\n",
              "    .colab-df-convert {\n",
              "      background-color: #E8F0FE;\n",
              "      border: none;\n",
              "      border-radius: 50%;\n",
              "      cursor: pointer;\n",
              "      display: none;\n",
              "      fill: #1967D2;\n",
              "      height: 32px;\n",
              "      padding: 0 0 0 0;\n",
              "      width: 32px;\n",
              "    }\n",
              "\n",
              "    .colab-df-convert:hover {\n",
              "      background-color: #E2EBFA;\n",
              "      box-shadow: 0px 1px 2px rgba(60, 64, 67, 0.3), 0px 1px 3px 1px rgba(60, 64, 67, 0.15);\n",
              "      fill: #174EA6;\n",
              "    }\n",
              "\n",
              "    [theme=dark] .colab-df-convert {\n",
              "      background-color: #3B4455;\n",
              "      fill: #D2E3FC;\n",
              "    }\n",
              "\n",
              "    [theme=dark] .colab-df-convert:hover {\n",
              "      background-color: #434B5C;\n",
              "      box-shadow: 0px 1px 3px 1px rgba(0, 0, 0, 0.15);\n",
              "      filter: drop-shadow(0px 1px 2px rgba(0, 0, 0, 0.3));\n",
              "      fill: #FFFFFF;\n",
              "    }\n",
              "  </style>\n",
              "\n",
              "      <script>\n",
              "        const buttonEl =\n",
              "          document.querySelector('#df-1378505a-031d-4a76-a3e3-c6000c8da1fd button.colab-df-convert');\n",
              "        buttonEl.style.display =\n",
              "          google.colab.kernel.accessAllowed ? 'block' : 'none';\n",
              "\n",
              "        async function convertToInteractive(key) {\n",
              "          const element = document.querySelector('#df-1378505a-031d-4a76-a3e3-c6000c8da1fd');\n",
              "          const dataTable =\n",
              "            await google.colab.kernel.invokeFunction('convertToInteractive',\n",
              "                                                     [key], {});\n",
              "          if (!dataTable) return;\n",
              "\n",
              "          const docLinkHtml = 'Like what you see? Visit the ' +\n",
              "            '<a target=\"_blank\" href=https://colab.research.google.com/notebooks/data_table.ipynb>data table notebook</a>'\n",
              "            + ' to learn more about interactive tables.';\n",
              "          element.innerHTML = '';\n",
              "          dataTable['output_type'] = 'display_data';\n",
              "          await google.colab.output.renderOutput(dataTable, element);\n",
              "          const docLink = document.createElement('div');\n",
              "          docLink.innerHTML = docLinkHtml;\n",
              "          element.appendChild(docLink);\n",
              "        }\n",
              "      </script>\n",
              "    </div>\n",
              "  </div>\n",
              "  "
            ]
          },
          "metadata": {},
          "execution_count": 3
        }
      ]
    },
    {
      "cell_type": "code",
      "source": [
        "dados[dados[\"Tipo_anuncio\"].isnull()][\"Tipo_anuncio\"].unique()"
      ],
      "metadata": {
        "colab": {
          "base_uri": "https://localhost:8080/"
        },
        "id": "lrD7YcMXkrq0",
        "outputId": "71a2b63b-6cc7-4c13-cf5b-a597fba1a126"
      },
      "execution_count": null,
      "outputs": [
        {
          "output_type": "execute_result",
          "data": {
            "text/plain": [
              "array([None], dtype=object)"
            ]
          },
          "metadata": {},
          "execution_count": 4
        }
      ]
    },
    {
      "cell_type": "code",
      "source": [
        "dados_vendas = dados[dados[\"Tipo_anuncio\"].isnull()]"
      ],
      "metadata": {
        "id": "cHbLmfrcl2nn"
      },
      "execution_count": null,
      "outputs": []
    },
    {
      "cell_type": "code",
      "source": [
        "dados_vendas[\"Valor_anuncio\"].str.replace(\".\",\"\").astype(float)"
      ],
      "metadata": {
        "colab": {
          "base_uri": "https://localhost:8080/"
        },
        "id": "gd7XVEXFmV_m",
        "outputId": "498439e2-4788-4f76-be62-a592e8f78b96"
      },
      "execution_count": null,
      "outputs": [
        {
          "output_type": "stream",
          "name": "stderr",
          "text": [
            "/usr/local/lib/python3.7/dist-packages/ipykernel_launcher.py:1: FutureWarning: The default value of regex will change from True to False in a future version. In addition, single character regular expressions will *not* be treated as literal strings when regex=True.\n",
            "  \"\"\"Entry point for launching an IPython kernel.\n"
          ]
        },
        {
          "output_type": "execute_result",
          "data": {
            "text/plain": [
              "0        7000000.0\n",
              "1        3700000.0\n",
              "2         380000.0\n",
              "3         685000.0\n",
              "4         540000.0\n",
              "           ...    \n",
              "10002    1500000.0\n",
              "10003     665000.0\n",
              "10004    2300000.0\n",
              "10005    1050000.0\n",
              "10007     270000.0\n",
              "Name: Valor_anuncio, Length: 9156, dtype: float64"
            ]
          },
          "metadata": {},
          "execution_count": 6
        }
      ]
    },
    {
      "cell_type": "code",
      "source": [
        "dados_vendas[\"Valor_anuncio_float\"] = dados_vendas[\"Valor_anuncio\"].str.replace(\".\",\"\").astype(float)"
      ],
      "metadata": {
        "colab": {
          "base_uri": "https://localhost:8080/"
        },
        "id": "L8a-mFvmnx5M",
        "outputId": "902c58b2-3fd1-46f2-e818-eb717d643c61"
      },
      "execution_count": null,
      "outputs": [
        {
          "output_type": "stream",
          "name": "stderr",
          "text": [
            "/usr/local/lib/python3.7/dist-packages/ipykernel_launcher.py:1: FutureWarning: The default value of regex will change from True to False in a future version. In addition, single character regular expressions will *not* be treated as literal strings when regex=True.\n",
            "  \"\"\"Entry point for launching an IPython kernel.\n",
            "/usr/local/lib/python3.7/dist-packages/ipykernel_launcher.py:1: SettingWithCopyWarning: \n",
            "A value is trying to be set on a copy of a slice from a DataFrame.\n",
            "Try using .loc[row_indexer,col_indexer] = value instead\n",
            "\n",
            "See the caveats in the documentation: https://pandas.pydata.org/pandas-docs/stable/user_guide/indexing.html#returning-a-view-versus-a-copy\n",
            "  \"\"\"Entry point for launching an IPython kernel.\n"
          ]
        }
      ]
    },
    {
      "cell_type": "code",
      "source": [
        ""
      ],
      "metadata": {
        "id": "geyXHqX6vyVP"
      },
      "execution_count": null,
      "outputs": []
    },
    {
      "cell_type": "code",
      "source": [
        "dados_vendas[\"Valor_m2\"] = dados_vendas[\"Valor_anuncio_float\"]/dados_vendas[\"Metragem\"]"
      ],
      "metadata": {
        "colab": {
          "base_uri": "https://localhost:8080/"
        },
        "id": "4tW63nTh6lVb",
        "outputId": "05d2d644-5950-4a29-b881-c7e08474c0d9"
      },
      "execution_count": null,
      "outputs": [
        {
          "output_type": "stream",
          "name": "stderr",
          "text": [
            "/usr/local/lib/python3.7/dist-packages/ipykernel_launcher.py:1: SettingWithCopyWarning: \n",
            "A value is trying to be set on a copy of a slice from a DataFrame.\n",
            "Try using .loc[row_indexer,col_indexer] = value instead\n",
            "\n",
            "See the caveats in the documentation: https://pandas.pydata.org/pandas-docs/stable/user_guide/indexing.html#returning-a-view-versus-a-copy\n",
            "  \"\"\"Entry point for launching an IPython kernel.\n"
          ]
        }
      ]
    },
    {
      "cell_type": "code",
      "source": [
        "top_bairros = dados_vendas[\"Bairro\"].value_counts()[:10].index"
      ],
      "metadata": {
        "id": "ATrsmulm_A2n"
      },
      "execution_count": null,
      "outputs": []
    },
    {
      "cell_type": "markdown",
      "source": [
        "##Desafio Aula 3\n",
        "\n",
        "- Tentar vincular dados do IBGE com os dados de imóveis.\n",
        "- Tratar os outliers e comparar com os resultados. \n",
        "- Agrupar por mais de uma categoria e realizar as análises.\n",
        "- Organize o colab para deixar com cara de projeto. \n"
      ],
      "metadata": {
        "id": "dHYvHqTlL470"
      }
    },
    {
      "cell_type": "markdown",
      "source": [
        "#Desafio 1"
      ],
      "metadata": {
        "id": "bQpXNILqXYeK"
      }
    },
    {
      "cell_type": "code",
      "source": [
        "# -*- coding: utf-8 -*-\n",
        "ibge_url = 'https://gist.githubusercontent.com/tgcsantos/85f8c7b0a2edbc3e27fcad619b37d886/raw/a4954781e6bca9cb804062a3eea0b3b84679daf4/Basico_SP1.csv'\n",
        "\n",
        "ibge = pd.read_csv(ibge_url, sep=';', encoding='utf-8')\n",
        "ibge.drop(columns=['Cod_setor', 'Nome_Grande_Regiao', 'Cod_UF',\n",
        "       'Nome_da_UF ', 'Cod_meso', 'Nome_da_meso', 'Cod_micro', 'Nome_da_micro',\n",
        "      'Cod_RM', 'Nome_da_RM', 'Cod_distrito','Nome_do_distrito', 'Cod_subdistrito',\n",
        "       'Nome_do_subdistrito', 'Situacao_setor',\n",
        "       'Tipo_setor','V001','V002','V003','V004','V005','V006','V007','V008','V009','V010','V011','V012'], inplace=True)\n"
      ],
      "metadata": {
        "id": "TfGqKTqtXXcc"
      },
      "execution_count": null,
      "outputs": []
    },
    {
      "cell_type": "code",
      "source": [
        "ibge.head()"
      ],
      "metadata": {
        "colab": {
          "base_uri": "https://localhost:8080/",
          "height": 206
        },
        "id": "WdC8wuz9bqkl",
        "outputId": "5d8daaef-114a-4516-b8a6-2112bef0210b"
      },
      "execution_count": null,
      "outputs": [
        {
          "output_type": "execute_result",
          "data": {
            "text/plain": [
              "   Cod_Grandes Regi�es  Cod_municipio Nome_do_municipio  Cod_bairro  \\\n",
              "0                    3        3550308         S�O PAULO  3550308000   \n",
              "1                    3        3550308         S�O PAULO  3550308000   \n",
              "2                    3        3550308         S�O PAULO  3550308000   \n",
              "3                    3        3550308         S�O PAULO  3550308000   \n",
              "4                    3        3550308         S�O PAULO  3550308000   \n",
              "\n",
              "                 Nome_do_bairro  Unnamed: 33  \n",
              "0  S�O PAULO (todos os setores)          NaN  \n",
              "1  S�O PAULO (todos os setores)          NaN  \n",
              "2  S�O PAULO (todos os setores)          NaN  \n",
              "3  S�O PAULO (todos os setores)          NaN  \n",
              "4  S�O PAULO (todos os setores)          NaN  "
            ],
            "text/html": [
              "\n",
              "  <div id=\"df-446048a9-035c-4a92-aa9e-3f3fbd40b043\">\n",
              "    <div class=\"colab-df-container\">\n",
              "      <div>\n",
              "<style scoped>\n",
              "    .dataframe tbody tr th:only-of-type {\n",
              "        vertical-align: middle;\n",
              "    }\n",
              "\n",
              "    .dataframe tbody tr th {\n",
              "        vertical-align: top;\n",
              "    }\n",
              "\n",
              "    .dataframe thead th {\n",
              "        text-align: right;\n",
              "    }\n",
              "</style>\n",
              "<table border=\"1\" class=\"dataframe\">\n",
              "  <thead>\n",
              "    <tr style=\"text-align: right;\">\n",
              "      <th></th>\n",
              "      <th>Cod_Grandes Regi�es</th>\n",
              "      <th>Cod_municipio</th>\n",
              "      <th>Nome_do_municipio</th>\n",
              "      <th>Cod_bairro</th>\n",
              "      <th>Nome_do_bairro</th>\n",
              "      <th>Unnamed: 33</th>\n",
              "    </tr>\n",
              "  </thead>\n",
              "  <tbody>\n",
              "    <tr>\n",
              "      <th>0</th>\n",
              "      <td>3</td>\n",
              "      <td>3550308</td>\n",
              "      <td>S�O PAULO</td>\n",
              "      <td>3550308000</td>\n",
              "      <td>S�O PAULO (todos os setores)</td>\n",
              "      <td>NaN</td>\n",
              "    </tr>\n",
              "    <tr>\n",
              "      <th>1</th>\n",
              "      <td>3</td>\n",
              "      <td>3550308</td>\n",
              "      <td>S�O PAULO</td>\n",
              "      <td>3550308000</td>\n",
              "      <td>S�O PAULO (todos os setores)</td>\n",
              "      <td>NaN</td>\n",
              "    </tr>\n",
              "    <tr>\n",
              "      <th>2</th>\n",
              "      <td>3</td>\n",
              "      <td>3550308</td>\n",
              "      <td>S�O PAULO</td>\n",
              "      <td>3550308000</td>\n",
              "      <td>S�O PAULO (todos os setores)</td>\n",
              "      <td>NaN</td>\n",
              "    </tr>\n",
              "    <tr>\n",
              "      <th>3</th>\n",
              "      <td>3</td>\n",
              "      <td>3550308</td>\n",
              "      <td>S�O PAULO</td>\n",
              "      <td>3550308000</td>\n",
              "      <td>S�O PAULO (todos os setores)</td>\n",
              "      <td>NaN</td>\n",
              "    </tr>\n",
              "    <tr>\n",
              "      <th>4</th>\n",
              "      <td>3</td>\n",
              "      <td>3550308</td>\n",
              "      <td>S�O PAULO</td>\n",
              "      <td>3550308000</td>\n",
              "      <td>S�O PAULO (todos os setores)</td>\n",
              "      <td>NaN</td>\n",
              "    </tr>\n",
              "  </tbody>\n",
              "</table>\n",
              "</div>\n",
              "      <button class=\"colab-df-convert\" onclick=\"convertToInteractive('df-446048a9-035c-4a92-aa9e-3f3fbd40b043')\"\n",
              "              title=\"Convert this dataframe to an interactive table.\"\n",
              "              style=\"display:none;\">\n",
              "        \n",
              "  <svg xmlns=\"http://www.w3.org/2000/svg\" height=\"24px\"viewBox=\"0 0 24 24\"\n",
              "       width=\"24px\">\n",
              "    <path d=\"M0 0h24v24H0V0z\" fill=\"none\"/>\n",
              "    <path d=\"M18.56 5.44l.94 2.06.94-2.06 2.06-.94-2.06-.94-.94-2.06-.94 2.06-2.06.94zm-11 1L8.5 8.5l.94-2.06 2.06-.94-2.06-.94L8.5 2.5l-.94 2.06-2.06.94zm10 10l.94 2.06.94-2.06 2.06-.94-2.06-.94-.94-2.06-.94 2.06-2.06.94z\"/><path d=\"M17.41 7.96l-1.37-1.37c-.4-.4-.92-.59-1.43-.59-.52 0-1.04.2-1.43.59L10.3 9.45l-7.72 7.72c-.78.78-.78 2.05 0 2.83L4 21.41c.39.39.9.59 1.41.59.51 0 1.02-.2 1.41-.59l7.78-7.78 2.81-2.81c.8-.78.8-2.07 0-2.86zM5.41 20L4 18.59l7.72-7.72 1.47 1.35L5.41 20z\"/>\n",
              "  </svg>\n",
              "      </button>\n",
              "      \n",
              "  <style>\n",
              "    .colab-df-container {\n",
              "      display:flex;\n",
              "      flex-wrap:wrap;\n",
              "      gap: 12px;\n",
              "    }\n",
              "\n",
              "    .colab-df-convert {\n",
              "      background-color: #E8F0FE;\n",
              "      border: none;\n",
              "      border-radius: 50%;\n",
              "      cursor: pointer;\n",
              "      display: none;\n",
              "      fill: #1967D2;\n",
              "      height: 32px;\n",
              "      padding: 0 0 0 0;\n",
              "      width: 32px;\n",
              "    }\n",
              "\n",
              "    .colab-df-convert:hover {\n",
              "      background-color: #E2EBFA;\n",
              "      box-shadow: 0px 1px 2px rgba(60, 64, 67, 0.3), 0px 1px 3px 1px rgba(60, 64, 67, 0.15);\n",
              "      fill: #174EA6;\n",
              "    }\n",
              "\n",
              "    [theme=dark] .colab-df-convert {\n",
              "      background-color: #3B4455;\n",
              "      fill: #D2E3FC;\n",
              "    }\n",
              "\n",
              "    [theme=dark] .colab-df-convert:hover {\n",
              "      background-color: #434B5C;\n",
              "      box-shadow: 0px 1px 3px 1px rgba(0, 0, 0, 0.15);\n",
              "      filter: drop-shadow(0px 1px 2px rgba(0, 0, 0, 0.3));\n",
              "      fill: #FFFFFF;\n",
              "    }\n",
              "  </style>\n",
              "\n",
              "      <script>\n",
              "        const buttonEl =\n",
              "          document.querySelector('#df-446048a9-035c-4a92-aa9e-3f3fbd40b043 button.colab-df-convert');\n",
              "        buttonEl.style.display =\n",
              "          google.colab.kernel.accessAllowed ? 'block' : 'none';\n",
              "\n",
              "        async function convertToInteractive(key) {\n",
              "          const element = document.querySelector('#df-446048a9-035c-4a92-aa9e-3f3fbd40b043');\n",
              "          const dataTable =\n",
              "            await google.colab.kernel.invokeFunction('convertToInteractive',\n",
              "                                                     [key], {});\n",
              "          if (!dataTable) return;\n",
              "\n",
              "          const docLinkHtml = 'Like what you see? Visit the ' +\n",
              "            '<a target=\"_blank\" href=https://colab.research.google.com/notebooks/data_table.ipynb>data table notebook</a>'\n",
              "            + ' to learn more about interactive tables.';\n",
              "          element.innerHTML = '';\n",
              "          dataTable['output_type'] = 'display_data';\n",
              "          await google.colab.output.renderOutput(dataTable, element);\n",
              "          const docLink = document.createElement('div');\n",
              "          docLink.innerHTML = docLinkHtml;\n",
              "          element.appendChild(docLink);\n",
              "        }\n",
              "      </script>\n",
              "    </div>\n",
              "  </div>\n",
              "  "
            ]
          },
          "metadata": {},
          "execution_count": 11
        }
      ]
    },
    {
      "cell_type": "markdown",
      "source": [
        "Csv sem informação de bairro.\n",
        "Não tem como efetuar a junção das tabelas"
      ],
      "metadata": {
        "id": "nRC0MT3jhiEK"
      }
    },
    {
      "cell_type": "markdown",
      "source": [
        "#Desafio 2"
      ],
      "metadata": {
        "id": "fqEMUUHEiaRl"
      }
    },
    {
      "cell_type": "markdown",
      "source": [
        "Tratando Metragem"
      ],
      "metadata": {
        "id": "RAfL2jxB8cRa"
      }
    },
    {
      "cell_type": "code",
      "source": [
        "plt.figure(figsize=(10, 8))\n",
        "ax = sns.boxplot(data = dados_vendas.query(\"Bairro in @top_bairros & Metragem < 1000\"), x=\"Bairro\", y=\"Metragem\")\n",
        "ax.tick_params(axis='x', rotation=45)\n",
        "plt.show()"
      ],
      "metadata": {
        "id": "KZY-MRB_ida9",
        "colab": {
          "base_uri": "https://localhost:8080/",
          "height": 553
        },
        "outputId": "d7d1826f-8319-4f02-9434-502fd8461fec"
      },
      "execution_count": null,
      "outputs": [
        {
          "output_type": "display_data",
          "data": {
            "text/plain": [
              "<Figure size 720x576 with 1 Axes>"
            ],
            "image/png": "[encoded data removed]"
          },
          "metadata": {
            "needs_background": "light"
          }
        }
      ]
    },
    {
      "cell_type": "markdown",
      "source": [
        "Tratando Quartos"
      ],
      "metadata": {
        "id": "VJoPk0gE8iar"
      }
    },
    {
      "cell_type": "code",
      "source": [
        "plt.figure(figsize=(10, 8))\n",
        "ax = sns.boxplot(data = dados_vendas.query(\"Bairro in @top_bairros & Quartos < 8\"), x=\"Bairro\", y=\"Quartos\")\n",
        "ax.tick_params(axis='x', rotation=45)\n",
        "plt.show()"
      ],
      "metadata": {
        "colab": {
          "base_uri": "https://localhost:8080/",
          "height": 553
        },
        "id": "ZCNr7CDt7xyD",
        "outputId": "3ee07b7a-e0b4-44e5-8733-4fdcc56acbd1"
      },
      "execution_count": null,
      "outputs": [
        {
          "output_type": "display_data",
          "data": {
            "text/plain": [
              "<Figure size 720x576 with 1 Axes>"
            ],
            "image/png": "[encoded data removed]"
          },
          "metadata": {
            "needs_background": "light"
          }
        }
      ]
    },
    {
      "cell_type": "markdown",
      "source": [
        "Tratando Banheiros"
      ],
      "metadata": {
        "id": "W-iTnD8g87Zr"
      }
    },
    {
      "cell_type": "code",
      "source": [
        "plt.figure(figsize=(10, 8))\n",
        "ax = sns.boxplot(data = dados_vendas.query(\"Bairro in @top_bairros & Banheiros < 40\"), x=\"Bairro\", y=\"Banheiros\")\n",
        "ax.tick_params(axis='x', rotation=45)\n",
        "plt.show()"
      ],
      "metadata": {
        "colab": {
          "base_uri": "https://localhost:8080/",
          "height": 553
        },
        "id": "ZQkvipDG8s3_",
        "outputId": "13bf7844-091f-40a7-e281-82262bfb02a4"
      },
      "execution_count": null,
      "outputs": [
        {
          "output_type": "display_data",
          "data": {
            "text/plain": [
              "<Figure size 720x576 with 1 Axes>"
            ],
            "image/png": "[encoded data removed]"
          },
          "metadata": {
            "needs_background": "light"
          }
        }
      ]
    },
    {
      "cell_type": "markdown",
      "source": [
        "Tratando Vagas"
      ],
      "metadata": {
        "id": "yXsABrrr9PTu"
      }
    },
    {
      "cell_type": "code",
      "source": [
        "plt.figure(figsize=(10, 8))\n",
        "ax = sns.boxplot(data = dados_vendas.query(\"Bairro in @top_bairros & Vagas < 16\"), x=\"Bairro\", y=\"Vagas\")\n",
        "ax.tick_params(axis='x', rotation=45)\n",
        "plt.show()"
      ],
      "metadata": {
        "colab": {
          "base_uri": "https://localhost:8080/",
          "height": 553
        },
        "id": "9G1B7_Gq9Cpy",
        "outputId": "c8934147-4881-4161-c496-0bee82240b17"
      },
      "execution_count": null,
      "outputs": [
        {
          "output_type": "display_data",
          "data": {
            "text/plain": [
              "<Figure size 720x576 with 1 Axes>"
            ],
            "image/png": "[encoded data removed]"
          },
          "metadata": {
            "needs_background": "light"
          }
        }
      ]
    },
    {
      "cell_type": "markdown",
      "source": [
        "#Desafio 3"
      ],
      "metadata": {
        "id": "COs_g8sU9ljs"
      }
    },
    {
      "cell_type": "code",
      "source": [
        "analise_jd_paulista = dados_vendas[dados_vendas.Bairro == \"Jardim Paulista\"]"
      ],
      "metadata": {
        "id": "cEIGhMFi9UKq"
      },
      "execution_count": null,
      "outputs": []
    },
    {
      "cell_type": "code",
      "source": [
        "analise_jd_paulista.groupby(['Bairro', 'Vagas'])['Valor_m2'].describe()\n"
      ],
      "metadata": {
        "colab": {
          "base_uri": "https://localhost:8080/",
          "height": 488
        },
        "id": "x24fFn_I-Twf",
        "outputId": "1899fc90-bf42-4983-dc99-42c51c893138"
      },
      "execution_count": null,
      "outputs": [
        {
          "output_type": "execute_result",
          "data": {
            "text/plain": [
              "                       count          mean          std           min  \\\n",
              "Bairro          Vagas                                                   \n",
              "Jardim Paulista 1       22.0  14449.215673  2608.013263  10285.714286   \n",
              "                2       36.0  14458.532764  4746.732853   7261.363636   \n",
              "                3       42.0  16379.555688  5559.519350   9705.882353   \n",
              "                4       69.0  17605.435988  6300.338394   4888.888889   \n",
              "                5       19.0  15514.192639  5829.356194   8888.888889   \n",
              "                6       36.0  16762.017189  8620.856203   8130.081301   \n",
              "                7       14.0  13602.711128  6654.100992   7912.087912   \n",
              "                8       14.0  17996.558004  3755.544234  13131.578947   \n",
              "                9        3.0  13355.365622  2689.809380  10251.282051   \n",
              "                10       6.0  14420.546420  3473.533774   8888.888889   \n",
              "                12       2.0  15450.771056  1719.536063  14234.875445   \n",
              "                14       2.0  13305.670816    39.120707  13278.008299   \n",
              "                15       1.0  13461.538462          NaN  13461.538462   \n",
              "\n",
              "                                25%           50%           75%           max  \n",
              "Bairro          Vagas                                                          \n",
              "Jardim Paulista 1      13066.326531  13446.771379  16747.311828  18978.102190  \n",
              "                2      11610.294118  14346.726763  16453.903654  31315.789474  \n",
              "                3      11988.636364  15508.620690  18333.333333  33725.490196  \n",
              "                4      12416.107383  18375.241779  21621.621622  34957.627119  \n",
              "                5      10357.142857  16469.194313  20175.438596  28301.886792  \n",
              "                6      11800.465839  14285.714286  16438.432836  38297.872340  \n",
              "                7       8087.912088  10698.315940  16966.618287  28888.888889  \n",
              "                8      15113.636364  17400.889915  20539.726027  25853.154085  \n",
              "                9      12533.048433  14814.814815  14907.407407  15000.000000  \n",
              "                10     12946.428571  15084.033613  15882.352941  19083.969466  \n",
              "                12     14842.823250  15450.771056  16058.718861  16666.666667  \n",
              "                14     13291.839557  13305.670816  13319.502075  13333.333333  \n",
              "                15     13461.538462  13461.538462  13461.538462  13461.538462  "
            ],
            "text/html": [
              "\n",
              "  <div id=\"df-9c43fc0f-f811-4458-bb46-fc7093993af3\">\n",
              "    <div class=\"colab-df-container\">\n",
              "      <div>\n",
              "<style scoped>\n",
              "    .dataframe tbody tr th:only-of-type {\n",
              "        vertical-align: middle;\n",
              "    }\n",
              "\n",
              "    .dataframe tbody tr th {\n",
              "        vertical-align: top;\n",
              "    }\n",
              "\n",
              "    .dataframe thead th {\n",
              "        text-align: right;\n",
              "    }\n",
              "</style>\n",
              "<table border=\"1\" class=\"dataframe\">\n",
              "  <thead>\n",
              "    <tr style=\"text-align: right;\">\n",
              "      <th></th>\n",
              "      <th></th>\n",
              "      <th>count</th>\n",
              "      <th>mean</th>\n",
              "      <th>std</th>\n",
              "      <th>min</th>\n",
              "      <th>25%</th>\n",
              "      <th>50%</th>\n",
              "      <th>75%</th>\n",
              "      <th>max</th>\n",
              "    </tr>\n",
              "    <tr>\n",
              "      <th>Bairro</th>\n",
              "      <th>Vagas</th>\n",
              "      <th></th>\n",
              "      <th></th>\n",
              "      <th></th>\n",
              "      <th></th>\n",
              "      <th></th>\n",
              "      <th></th>\n",
              "      <th></th>\n",
              "      <th></th>\n",
              "    </tr>\n",
              "  </thead>\n",
              "  <tbody>\n",
              "    <tr>\n",
              "      <th rowspan=\"13\" valign=\"top\">Jardim Paulista</th>\n",
              "      <th>1</th>\n",
              "      <td>22.0</td>\n",
              "      <td>14449.215673</td>\n",
              "      <td>2608.013263</td>\n",
              "      <td>10285.714286</td>\n",
              "      <td>13066.326531</td>\n",
              "      <td>13446.771379</td>\n",
              "      <td>16747.311828</td>\n",
              "      <td>18978.102190</td>\n",
              "    </tr>\n",
              "    <tr>\n",
              "      <th>2</th>\n",
              "      <td>36.0</td>\n",
              "      <td>14458.532764</td>\n",
              "      <td>4746.732853</td>\n",
              "      <td>7261.363636</td>\n",
              "      <td>11610.294118</td>\n",
              "      <td>14346.726763</td>\n",
              "      <td>16453.903654</td>\n",
              "      <td>31315.789474</td>\n",
              "    </tr>\n",
              "    <tr>\n",
              "      <th>3</th>\n",
              "      <td>42.0</td>\n",
              "      <td>16379.555688</td>\n",
              "      <td>5559.519350</td>\n",
              "      <td>9705.882353</td>\n",
              "      <td>11988.636364</td>\n",
              "      <td>15508.620690</td>\n",
              "      <td>18333.333333</td>\n",
              "      <td>33725.490196</td>\n",
              "    </tr>\n",
              "    <tr>\n",
              "      <th>4</th>\n",
              "      <td>69.0</td>\n",
              "      <td>17605.435988</td>\n",
              "      <td>6300.338394</td>\n",
              "      <td>4888.888889</td>\n",
              "      <td>12416.107383</td>\n",
              "      <td>18375.241779</td>\n",
              "      <td>21621.621622</td>\n",
              "      <td>34957.627119</td>\n",
              "    </tr>\n",
              "    <tr>\n",
              "      <th>5</th>\n",
              "      <td>19.0</td>\n",
              "      <td>15514.192639</td>\n",
              "      <td>5829.356194</td>\n",
              "      <td>8888.888889</td>\n",
              "      <td>10357.142857</td>\n",
              "      <td>16469.194313</td>\n",
              "      <td>20175.438596</td>\n",
              "      <td>28301.886792</td>\n",
              "    </tr>\n",
              "    <tr>\n",
              "      <th>6</th>\n",
              "      <td>36.0</td>\n",
              "      <td>16762.017189</td>\n",
              "      <td>8620.856203</td>\n",
              "      <td>8130.081301</td>\n",
              "      <td>11800.465839</td>\n",
              "      <td>14285.714286</td>\n",
              "      <td>16438.432836</td>\n",
              "      <td>38297.872340</td>\n",
              "    </tr>\n",
              "    <tr>\n",
              "      <th>7</th>\n",
              "      <td>14.0</td>\n",
              "      <td>13602.711128</td>\n",
              "      <td>6654.100992</td>\n",
              "      <td>7912.087912</td>\n",
              "      <td>8087.912088</td>\n",
              "      <td>10698.315940</td>\n",
              "      <td>16966.618287</td>\n",
              "      <td>28888.888889</td>\n",
              "    </tr>\n",
              "    <tr>\n",
              "      <th>8</th>\n",
              "      <td>14.0</td>\n",
              "      <td>17996.558004</td>\n",
              "      <td>3755.544234</td>\n",
              "      <td>13131.578947</td>\n",
              "      <td>15113.636364</td>\n",
              "      <td>17400.889915</td>\n",
              "      <td>20539.726027</td>\n",
              "      <td>25853.154085</td>\n",
              "    </tr>\n",
              "    <tr>\n",
              "      <th>9</th>\n",
              "      <td>3.0</td>\n",
              "      <td>13355.365622</td>\n",
              "      <td>2689.809380</td>\n",
              "      <td>10251.282051</td>\n",
              "      <td>12533.048433</td>\n",
              "      <td>14814.814815</td>\n",
              "      <td>14907.407407</td>\n",
              "      <td>15000.000000</td>\n",
              "    </tr>\n",
              "    <tr>\n",
              "      <th>10</th>\n",
              "      <td>6.0</td>\n",
              "      <td>14420.546420</td>\n",
              "      <td>3473.533774</td>\n",
              "      <td>8888.888889</td>\n",
              "      <td>12946.428571</td>\n",
              "      <td>15084.033613</td>\n",
              "      <td>15882.352941</td>\n",
              "      <td>19083.969466</td>\n",
              "    </tr>\n",
              "    <tr>\n",
              "      <th>12</th>\n",
              "      <td>2.0</td>\n",
              "      <td>15450.771056</td>\n",
              "      <td>1719.536063</td>\n",
              "      <td>14234.875445</td>\n",
              "      <td>14842.823250</td>\n",
              "      <td>15450.771056</td>\n",
              "      <td>16058.718861</td>\n",
              "      <td>16666.666667</td>\n",
              "    </tr>\n",
              "    <tr>\n",
              "      <th>14</th>\n",
              "      <td>2.0</td>\n",
              "      <td>13305.670816</td>\n",
              "      <td>39.120707</td>\n",
              "      <td>13278.008299</td>\n",
              "      <td>13291.839557</td>\n",
              "      <td>13305.670816</td>\n",
              "      <td>13319.502075</td>\n",
              "      <td>13333.333333</td>\n",
              "    </tr>\n",
              "    <tr>\n",
              "      <th>15</th>\n",
              "      <td>1.0</td>\n",
              "      <td>13461.538462</td>\n",
              "      <td>NaN</td>\n",
              "      <td>13461.538462</td>\n",
              "      <td>13461.538462</td>\n",
              "      <td>13461.538462</td>\n",
              "      <td>13461.538462</td>\n",
              "      <td>13461.538462</td>\n",
              "    </tr>\n",
              "  </tbody>\n",
              "</table>\n",
              "</div>\n",
              "      <button class=\"colab-df-convert\" onclick=\"convertToInteractive('df-9c43fc0f-f811-4458-bb46-fc7093993af3')\"\n",
              "              title=\"Convert this dataframe to an interactive table.\"\n",
              "              style=\"display:none;\">\n",
              "        \n",
              "  <svg xmlns=\"http://www.w3.org/2000/svg\" height=\"24px\"viewBox=\"0 0 24 24\"\n",
              "       width=\"24px\">\n",
              "    <path d=\"M0 0h24v24H0V0z\" fill=\"none\"/>\n",
              "    <path d=\"M18.56 5.44l.94 2.06.94-2.06 2.06-.94-2.06-.94-.94-2.06-.94 2.06-2.06.94zm-11 1L8.5 8.5l.94-2.06 2.06-.94-2.06-.94L8.5 2.5l-.94 2.06-2.06.94zm10 10l.94 2.06.94-2.06 2.06-.94-2.06-.94-.94-2.06-.94 2.06-2.06.94z\"/><path d=\"M17.41 7.96l-1.37-1.37c-.4-.4-.92-.59-1.43-.59-.52 0-1.04.2-1.43.59L10.3 9.45l-7.72 7.72c-.78.78-.78 2.05 0 2.83L4 21.41c.39.39.9.59 1.41.59.51 0 1.02-.2 1.41-.59l7.78-7.78 2.81-2.81c.8-.78.8-2.07 0-2.86zM5.41 20L4 18.59l7.72-7.72 1.47 1.35L5.41 20z\"/>\n",
              "  </svg>\n",
              "      </button>\n",
              "      \n",
              "  <style>\n",
              "    .colab-df-container {\n",
              "      display:flex;\n",
              "      flex-wrap:wrap;\n",
              "      gap: 12px;\n",
              "    }\n",
              "\n",
              "    .colab-df-convert {\n",
              "      background-color: #E8F0FE;\n",
              "      border: none;\n",
              "      border-radius: 50%;\n",
              "      cursor: pointer;\n",
              "      display: none;\n",
              "      fill: #1967D2;\n",
              "      height: 32px;\n",
              "      padding: 0 0 0 0;\n",
              "      width: 32px;\n",
              "    }\n",
              "\n",
              "    .colab-df-convert:hover {\n",
              "      background-color: #E2EBFA;\n",
              "      box-shadow: 0px 1px 2px rgba(60, 64, 67, 0.3), 0px 1px 3px 1px rgba(60, 64, 67, 0.15);\n",
              "      fill: #174EA6;\n",
              "    }\n",
              "\n",
              "    [theme=dark] .colab-df-convert {\n",
              "      background-color: #3B4455;\n",
              "      fill: #D2E3FC;\n",
              "    }\n",
              "\n",
              "    [theme=dark] .colab-df-convert:hover {\n",
              "      background-color: #434B5C;\n",
              "      box-shadow: 0px 1px 3px 1px rgba(0, 0, 0, 0.15);\n",
              "      filter: drop-shadow(0px 1px 2px rgba(0, 0, 0, 0.3));\n",
              "      fill: #FFFFFF;\n",
              "    }\n",
              "  </style>\n",
              "\n",
              "      <script>\n",
              "        const buttonEl =\n",
              "          document.querySelector('#df-9c43fc0f-f811-4458-bb46-fc7093993af3 button.colab-df-convert');\n",
              "        buttonEl.style.display =\n",
              "          google.colab.kernel.accessAllowed ? 'block' : 'none';\n",
              "\n",
              "        async function convertToInteractive(key) {\n",
              "          const element = document.querySelector('#df-9c43fc0f-f811-4458-bb46-fc7093993af3');\n",
              "          const dataTable =\n",
              "            await google.colab.kernel.invokeFunction('convertToInteractive',\n",
              "                                                     [key], {});\n",
              "          if (!dataTable) return;\n",
              "\n",
              "          const docLinkHtml = 'Like what you see? Visit the ' +\n",
              "            '<a target=\"_blank\" href=https://colab.research.google.com/notebooks/data_table.ipynb>data table notebook</a>'\n",
              "            + ' to learn more about interactive tables.';\n",
              "          element.innerHTML = '';\n",
              "          dataTable['output_type'] = 'display_data';\n",
              "          await google.colab.output.renderOutput(dataTable, element);\n",
              "          const docLink = document.createElement('div');\n",
              "          docLink.innerHTML = docLinkHtml;\n",
              "          element.appendChild(docLink);\n",
              "        }\n",
              "      </script>\n",
              "    </div>\n",
              "  </div>\n",
              "  "
            ]
          },
          "metadata": {},
          "execution_count": 17
        }
      ]
    },
    {
      "cell_type": "markdown",
      "source": [
        "Q Quantidade de Vagas não interfere no Vamor m2 no bairro Jardim Paulista"
      ],
      "metadata": {
        "id": "o6WtmycAA7tT"
      }
    },
    {
      "cell_type": "code",
      "source": [
        "analise_jd_paulista.groupby(['Bairro', 'Quartos'])['Valor_m2'].describe()"
      ],
      "metadata": {
        "colab": {
          "base_uri": "https://localhost:8080/",
          "height": 332
        },
        "id": "2dzdsjXe_rqG",
        "outputId": "bfcc7302-8598-4cc0-8739-e618d6cc9165"
      },
      "execution_count": null,
      "outputs": [
        {
          "output_type": "execute_result",
          "data": {
            "text/plain": [
              "                         count          mean          std           min  \\\n",
              "Bairro          Quartos                                                   \n",
              "Jardim Paulista 2         13.0  16529.676558  2603.455712  11666.666667   \n",
              "                3         89.0  15148.840801  5460.255412   7912.087912   \n",
              "                4        122.0  16516.887635  6436.625441   4888.888889   \n",
              "                5         29.0  17283.996132  6759.536950   7960.199005   \n",
              "                6          6.0  11261.817594  1243.364532   9800.000000   \n",
              "                8          1.0  13000.000000          NaN  13000.000000   \n",
              "                9          5.0  18074.718083   991.023767  16774.193548   \n",
              "                13         1.0  28888.888889          NaN  28888.888889   \n",
              "\n",
              "                                  25%           50%           75%  \\\n",
              "Bairro          Quartos                                             \n",
              "Jardim Paulista 2        16000.000000  16909.090909  17948.717949   \n",
              "                3        11745.098039  13560.209424  16703.786192   \n",
              "                4        12012.684989  16324.404762  19298.245614   \n",
              "                5        12834.224599  15000.000000  23478.260870   \n",
              "                6        10361.344538  11044.117647  12377.262443   \n",
              "                8        13000.000000  13000.000000  13000.000000   \n",
              "                9        17333.333333  18309.859155  18978.102190   \n",
              "                13       28888.888889  28888.888889  28888.888889   \n",
              "\n",
              "                                  max  \n",
              "Bairro          Quartos                \n",
              "Jardim Paulista 2        20462.427746  \n",
              "                3        34957.627119  \n",
              "                4        38297.872340  \n",
              "                5        28301.886792  \n",
              "                6        12727.272727  \n",
              "                8        13000.000000  \n",
              "                9        18978.102190  \n",
              "                13       28888.888889  "
            ],
            "text/html": [
              "\n",
              "  <div id=\"df-3cd31091-6c46-4b94-aba6-da5a83935b3a\">\n",
              "    <div class=\"colab-df-container\">\n",
              "      <div>\n",
              "<style scoped>\n",
              "    .dataframe tbody tr th:only-of-type {\n",
              "        vertical-align: middle;\n",
              "    }\n",
              "\n",
              "    .dataframe tbody tr th {\n",
              "        vertical-align: top;\n",
              "    }\n",
              "\n",
              "    .dataframe thead th {\n",
              "        text-align: right;\n",
              "    }\n",
              "</style>\n",
              "<table border=\"1\" class=\"dataframe\">\n",
              "  <thead>\n",
              "    <tr style=\"text-align: right;\">\n",
              "      <th></th>\n",
              "      <th></th>\n",
              "      <th>count</th>\n",
              "      <th>mean</th>\n",
              "      <th>std</th>\n",
              "      <th>min</th>\n",
              "      <th>25%</th>\n",
              "      <th>50%</th>\n",
              "      <th>75%</th>\n",
              "      <th>max</th>\n",
              "    </tr>\n",
              "    <tr>\n",
              "      <th>Bairro</th>\n",
              "      <th>Quartos</th>\n",
              "      <th></th>\n",
              "      <th></th>\n",
              "      <th></th>\n",
              "      <th></th>\n",
              "      <th></th>\n",
              "      <th></th>\n",
              "      <th></th>\n",
              "      <th></th>\n",
              "    </tr>\n",
              "  </thead>\n",
              "  <tbody>\n",
              "    <tr>\n",
              "      <th rowspan=\"8\" valign=\"top\">Jardim Paulista</th>\n",
              "      <th>2</th>\n",
              "      <td>13.0</td>\n",
              "      <td>16529.676558</td>\n",
              "      <td>2603.455712</td>\n",
              "      <td>11666.666667</td>\n",
              "      <td>16000.000000</td>\n",
              "      <td>16909.090909</td>\n",
              "      <td>17948.717949</td>\n",
              "      <td>20462.427746</td>\n",
              "    </tr>\n",
              "    <tr>\n",
              "      <th>3</th>\n",
              "      <td>89.0</td>\n",
              "      <td>15148.840801</td>\n",
              "      <td>5460.255412</td>\n",
              "      <td>7912.087912</td>\n",
              "      <td>11745.098039</td>\n",
              "      <td>13560.209424</td>\n",
              "      <td>16703.786192</td>\n",
              "      <td>34957.627119</td>\n",
              "    </tr>\n",
              "    <tr>\n",
              "      <th>4</th>\n",
              "      <td>122.0</td>\n",
              "      <td>16516.887635</td>\n",
              "      <td>6436.625441</td>\n",
              "      <td>4888.888889</td>\n",
              "      <td>12012.684989</td>\n",
              "      <td>16324.404762</td>\n",
              "      <td>19298.245614</td>\n",
              "      <td>38297.872340</td>\n",
              "    </tr>\n",
              "    <tr>\n",
              "      <th>5</th>\n",
              "      <td>29.0</td>\n",
              "      <td>17283.996132</td>\n",
              "      <td>6759.536950</td>\n",
              "      <td>7960.199005</td>\n",
              "      <td>12834.224599</td>\n",
              "      <td>15000.000000</td>\n",
              "      <td>23478.260870</td>\n",
              "      <td>28301.886792</td>\n",
              "    </tr>\n",
              "    <tr>\n",
              "      <th>6</th>\n",
              "      <td>6.0</td>\n",
              "      <td>11261.817594</td>\n",
              "      <td>1243.364532</td>\n",
              "      <td>9800.000000</td>\n",
              "      <td>10361.344538</td>\n",
              "      <td>11044.117647</td>\n",
              "      <td>12377.262443</td>\n",
              "      <td>12727.272727</td>\n",
              "    </tr>\n",
              "    <tr>\n",
              "      <th>8</th>\n",
              "      <td>1.0</td>\n",
              "      <td>13000.000000</td>\n",
              "      <td>NaN</td>\n",
              "      <td>13000.000000</td>\n",
              "      <td>13000.000000</td>\n",
              "      <td>13000.000000</td>\n",
              "      <td>13000.000000</td>\n",
              "      <td>13000.000000</td>\n",
              "    </tr>\n",
              "    <tr>\n",
              "      <th>9</th>\n",
              "      <td>5.0</td>\n",
              "      <td>18074.718083</td>\n",
              "      <td>991.023767</td>\n",
              "      <td>16774.193548</td>\n",
              "      <td>17333.333333</td>\n",
              "      <td>18309.859155</td>\n",
              "      <td>18978.102190</td>\n",
              "      <td>18978.102190</td>\n",
              "    </tr>\n",
              "    <tr>\n",
              "      <th>13</th>\n",
              "      <td>1.0</td>\n",
              "      <td>28888.888889</td>\n",
              "      <td>NaN</td>\n",
              "      <td>28888.888889</td>\n",
              "      <td>28888.888889</td>\n",
              "      <td>28888.888889</td>\n",
              "      <td>28888.888889</td>\n",
              "      <td>28888.888889</td>\n",
              "    </tr>\n",
              "  </tbody>\n",
              "</table>\n",
              "</div>\n",
              "      <button class=\"colab-df-convert\" onclick=\"convertToInteractive('df-3cd31091-6c46-4b94-aba6-da5a83935b3a')\"\n",
              "              title=\"Convert this dataframe to an interactive table.\"\n",
              "              style=\"display:none;\">\n",
              "        \n",
              "  <svg xmlns=\"http://www.w3.org/2000/svg\" height=\"24px\"viewBox=\"0 0 24 24\"\n",
              "       width=\"24px\">\n",
              "    <path d=\"M0 0h24v24H0V0z\" fill=\"none\"/>\n",
              "    <path d=\"M18.56 5.44l.94 2.06.94-2.06 2.06-.94-2.06-.94-.94-2.06-.94 2.06-2.06.94zm-11 1L8.5 8.5l.94-2.06 2.06-.94-2.06-.94L8.5 2.5l-.94 2.06-2.06.94zm10 10l.94 2.06.94-2.06 2.06-.94-2.06-.94-.94-2.06-.94 2.06-2.06.94z\"/><path d=\"M17.41 7.96l-1.37-1.37c-.4-.4-.92-.59-1.43-.59-.52 0-1.04.2-1.43.59L10.3 9.45l-7.72 7.72c-.78.78-.78 2.05 0 2.83L4 21.41c.39.39.9.59 1.41.59.51 0 1.02-.2 1.41-.59l7.78-7.78 2.81-2.81c.8-.78.8-2.07 0-2.86zM5.41 20L4 18.59l7.72-7.72 1.47 1.35L5.41 20z\"/>\n",
              "  </svg>\n",
              "      </button>\n",
              "      \n",
              "  <style>\n",
              "    .colab-df-container {\n",
              "      display:flex;\n",
              "      flex-wrap:wrap;\n",
              "      gap: 12px;\n",
              "    }\n",
              "\n",
              "    .colab-df-convert {\n",
              "      background-color: #E8F0FE;\n",
              "      border: none;\n",
              "      border-radius: 50%;\n",
              "      cursor: pointer;\n",
              "      display: none;\n",
              "      fill: #1967D2;\n",
              "      height: 32px;\n",
              "      padding: 0 0 0 0;\n",
              "      width: 32px;\n",
              "    }\n",
              "\n",
              "    .colab-df-convert:hover {\n",
              "      background-color: #E2EBFA;\n",
              "      box-shadow: 0px 1px 2px rgba(60, 64, 67, 0.3), 0px 1px 3px 1px rgba(60, 64, 67, 0.15);\n",
              "      fill: #174EA6;\n",
              "    }\n",
              "\n",
              "    [theme=dark] .colab-df-convert {\n",
              "      background-color: #3B4455;\n",
              "      fill: #D2E3FC;\n",
              "    }\n",
              "\n",
              "    [theme=dark] .colab-df-convert:hover {\n",
              "      background-color: #434B5C;\n",
              "      box-shadow: 0px 1px 3px 1px rgba(0, 0, 0, 0.15);\n",
              "      filter: drop-shadow(0px 1px 2px rgba(0, 0, 0, 0.3));\n",
              "      fill: #FFFFFF;\n",
              "    }\n",
              "  </style>\n",
              "\n",
              "      <script>\n",
              "        const buttonEl =\n",
              "          document.querySelector('#df-3cd31091-6c46-4b94-aba6-da5a83935b3a button.colab-df-convert');\n",
              "        buttonEl.style.display =\n",
              "          google.colab.kernel.accessAllowed ? 'block' : 'none';\n",
              "\n",
              "        async function convertToInteractive(key) {\n",
              "          const element = document.querySelector('#df-3cd31091-6c46-4b94-aba6-da5a83935b3a');\n",
              "          const dataTable =\n",
              "            await google.colab.kernel.invokeFunction('convertToInteractive',\n",
              "                                                     [key], {});\n",
              "          if (!dataTable) return;\n",
              "\n",
              "          const docLinkHtml = 'Like what you see? Visit the ' +\n",
              "            '<a target=\"_blank\" href=https://colab.research.google.com/notebooks/data_table.ipynb>data table notebook</a>'\n",
              "            + ' to learn more about interactive tables.';\n",
              "          element.innerHTML = '';\n",
              "          dataTable['output_type'] = 'display_data';\n",
              "          await google.colab.output.renderOutput(dataTable, element);\n",
              "          const docLink = document.createElement('div');\n",
              "          docLink.innerHTML = docLinkHtml;\n",
              "          element.appendChild(docLink);\n",
              "        }\n",
              "      </script>\n",
              "    </div>\n",
              "  </div>\n",
              "  "
            ]
          },
          "metadata": {},
          "execution_count": 18
        }
      ]
    },
    {
      "cell_type": "markdown",
      "source": [
        "Analisar os dados dos imoveis com 6,8 e 9 Quartos pois estão abaixo da media dos com 2 quartos"
      ],
      "metadata": {
        "id": "JHILcUMfCfbm"
      }
    },
    {
      "cell_type": "code",
      "source": [
        ""
      ],
      "metadata": {
        "id": "cSFZYV-ABSg5"
      },
      "execution_count": null,
      "outputs": []
    }
  ]
}